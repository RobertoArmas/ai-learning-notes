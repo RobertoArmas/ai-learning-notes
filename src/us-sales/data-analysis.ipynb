{
 "cells": [
  {
   "cell_type": "markdown",
   "id": "1a550682",
   "metadata": {},
   "source": [
    "# Clean Data for Power BI"
   ]
  },
  {
   "cell_type": "code",
   "execution_count": 67,
   "id": "c3945c24",
   "metadata": {},
   "outputs": [
    {
     "name": "stdout",
     "output_type": "stream",
     "text": [
      "Index(['ProductID', 'Date', 'Zip', 'Units', 'Revenue'], dtype='object')\n",
      "   ProductID        Date    Zip  Units   Revenue\n",
      "0       1076  2015-01-20  72638      1  254.5725\n",
      "1       1076  2015-01-21  47577      1  254.5725\n",
      "2       1076  2015-01-28  34653      1  254.5725\n",
      "3       1076  2015-01-31  84014      1  254.5725\n",
      "4       1076  2015-02-01  75070      1  254.5725\n",
      "Number of rows: 4198753\n"
     ]
    }
   ],
   "source": [
    "import pandas as pd\n",
    "\n",
    "sales_data = pd.read_csv('./Sales.csv')\n",
    "\n",
    "print(sales_data.columns)\n",
    "\n",
    "print(sales_data.head())\n",
    "print(f\"Number of rows: {len(sales_data)}\")"
   ]
  },
  {
   "cell_type": "code",
   "execution_count": 68,
   "id": "94cdac48",
   "metadata": {},
   "outputs": [
    {
     "name": "stdout",
     "output_type": "stream",
     "text": [
      "Total de ganancias (Revenue): $1,697,110,399.53\n"
     ]
    }
   ],
   "source": [
    "total_revenue = sales_data['Revenue'].sum()\n",
    "formatted_revenue = f\"{total_revenue:,.2f}\"\n",
    "print(f\"Total de ganancias (Revenue): ${formatted_revenue}\")"
   ]
  },
  {
   "cell_type": "code",
   "execution_count": 69,
   "id": "66951122",
   "metadata": {},
   "outputs": [],
   "source": [
    "product_df = pd.read_excel('./bi_dimensions.xlsx', sheet_name='product', header=1)\n",
    "geo_df = pd.read_excel('./bi_dimensions.xlsx', sheet_name='geo' , header=3)"
   ]
  },
  {
   "cell_type": "code",
   "execution_count": 70,
   "id": "da6701f8",
   "metadata": {},
   "outputs": [],
   "source": [
    "manu_raw = pd.read_excel('./bi_dimensions.xlsx', sheet_name='manufacturer', header=None)\n",
    "manu_raw = manu_raw.dropna(how='all', axis=0).dropna(how='all', axis=1)\n",
    "\n",
    "# Row indices:\n",
    "# 0 -> dummy headers 'Column1' etc.\n",
    "# 1 -> ManufacturerID + ids\n",
    "# 2 -> Manufacturer names\n",
    "# 3 -> Logo URLs\n",
    "\n",
    "ids = manu_raw.iloc[1, 1:]  # numeric IDs starting at second cell\n",
    "names = manu_raw.iloc[2, 1:]\n",
    "logos = manu_raw.iloc[3, 1:]\n",
    "\n",
    "manufacturer_df = pd.DataFrame({'ManufacturerID': ids.values,\n",
    "                                'Manufacturer': names.values,\n",
    "                                'Logo': logos.values})"
   ]
  },
  {
   "cell_type": "code",
   "execution_count": 71,
   "id": "59275042",
   "metadata": {},
   "outputs": [
    {
     "data": {
      "text/html": [
       "<div>\n",
       "<style scoped>\n",
       "    .dataframe tbody tr th:only-of-type {\n",
       "        vertical-align: middle;\n",
       "    }\n",
       "\n",
       "    .dataframe tbody tr th {\n",
       "        vertical-align: top;\n",
       "    }\n",
       "\n",
       "    .dataframe thead th {\n",
       "        text-align: right;\n",
       "    }\n",
       "</style>\n",
       "<table border=\"1\" class=\"dataframe\">\n",
       "  <thead>\n",
       "    <tr style=\"text-align: right;\">\n",
       "      <th></th>\n",
       "      <th>ProductID</th>\n",
       "      <th>Product</th>\n",
       "      <th>Category</th>\n",
       "      <th>ManufacturerID</th>\n",
       "      <th>Price</th>\n",
       "    </tr>\n",
       "  </thead>\n",
       "  <tbody>\n",
       "    <tr>\n",
       "      <th>0</th>\n",
       "      <td>1</td>\n",
       "      <td>Abbas MA-01|All Season</td>\n",
       "      <td>Mix</td>\n",
       "      <td>1</td>\n",
       "      <td>USD 412.13</td>\n",
       "    </tr>\n",
       "    <tr>\n",
       "      <th>1</th>\n",
       "      <td>2</td>\n",
       "      <td>Abbas MA-02|All Season</td>\n",
       "      <td>NaN</td>\n",
       "      <td>1</td>\n",
       "      <td>USD 329.78</td>\n",
       "    </tr>\n",
       "    <tr>\n",
       "      <th>2</th>\n",
       "      <td>3</td>\n",
       "      <td>Abbas MA-03|All Season</td>\n",
       "      <td>NaN</td>\n",
       "      <td>1</td>\n",
       "      <td>USD 963.38</td>\n",
       "    </tr>\n",
       "    <tr>\n",
       "      <th>3</th>\n",
       "      <td>4</td>\n",
       "      <td>Abbas MA-04|All Season</td>\n",
       "      <td>NaN</td>\n",
       "      <td>1</td>\n",
       "      <td>USD 828.98</td>\n",
       "    </tr>\n",
       "    <tr>\n",
       "      <th>4</th>\n",
       "      <td>5</td>\n",
       "      <td>Abbas MA-05|All Season</td>\n",
       "      <td>NaN</td>\n",
       "      <td>1</td>\n",
       "      <td>USD 745.5</td>\n",
       "    </tr>\n",
       "  </tbody>\n",
       "</table>\n",
       "</div>"
      ],
      "text/plain": [
       "   ProductID                 Product Category  ManufacturerID       Price\n",
       "0          1  Abbas MA-01|All Season      Mix               1  USD 412.13\n",
       "1          2  Abbas MA-02|All Season      NaN               1  USD 329.78\n",
       "2          3  Abbas MA-03|All Season      NaN               1  USD 963.38\n",
       "3          4  Abbas MA-04|All Season      NaN               1  USD 828.98\n",
       "4          5  Abbas MA-05|All Season      NaN               1   USD 745.5"
      ]
     },
     "execution_count": 71,
     "metadata": {},
     "output_type": "execute_result"
    }
   ],
   "source": [
    "product_df.head()"
   ]
  },
  {
   "cell_type": "code",
   "execution_count": 72,
   "id": "42965a53",
   "metadata": {},
   "outputs": [
    {
     "data": {
      "text/html": [
       "<div>\n",
       "<style scoped>\n",
       "    .dataframe tbody tr th:only-of-type {\n",
       "        vertical-align: middle;\n",
       "    }\n",
       "\n",
       "    .dataframe tbody tr th {\n",
       "        vertical-align: top;\n",
       "    }\n",
       "\n",
       "    .dataframe thead th {\n",
       "        text-align: right;\n",
       "    }\n",
       "</style>\n",
       "<table border=\"1\" class=\"dataframe\">\n",
       "  <thead>\n",
       "    <tr style=\"text-align: right;\">\n",
       "      <th></th>\n",
       "      <th>ProductID</th>\n",
       "      <th>Product</th>\n",
       "      <th>Category</th>\n",
       "      <th>ManufacturerID</th>\n",
       "      <th>Price</th>\n",
       "    </tr>\n",
       "  </thead>\n",
       "  <tbody>\n",
       "    <tr>\n",
       "      <th>0</th>\n",
       "      <td>1</td>\n",
       "      <td>Abbas MA-01|All Season</td>\n",
       "      <td>Mix</td>\n",
       "      <td>1</td>\n",
       "      <td>412.13</td>\n",
       "    </tr>\n",
       "    <tr>\n",
       "      <th>1</th>\n",
       "      <td>2</td>\n",
       "      <td>Abbas MA-02|All Season</td>\n",
       "      <td>NaN</td>\n",
       "      <td>1</td>\n",
       "      <td>329.78</td>\n",
       "    </tr>\n",
       "    <tr>\n",
       "      <th>2</th>\n",
       "      <td>3</td>\n",
       "      <td>Abbas MA-03|All Season</td>\n",
       "      <td>NaN</td>\n",
       "      <td>1</td>\n",
       "      <td>963.38</td>\n",
       "    </tr>\n",
       "    <tr>\n",
       "      <th>3</th>\n",
       "      <td>4</td>\n",
       "      <td>Abbas MA-04|All Season</td>\n",
       "      <td>NaN</td>\n",
       "      <td>1</td>\n",
       "      <td>828.98</td>\n",
       "    </tr>\n",
       "    <tr>\n",
       "      <th>4</th>\n",
       "      <td>5</td>\n",
       "      <td>Abbas MA-05|All Season</td>\n",
       "      <td>NaN</td>\n",
       "      <td>1</td>\n",
       "      <td>745.50</td>\n",
       "    </tr>\n",
       "  </tbody>\n",
       "</table>\n",
       "</div>"
      ],
      "text/plain": [
       "   ProductID                 Product Category  ManufacturerID   Price\n",
       "0          1  Abbas MA-01|All Season      Mix               1  412.13\n",
       "1          2  Abbas MA-02|All Season      NaN               1  329.78\n",
       "2          3  Abbas MA-03|All Season      NaN               1  963.38\n",
       "3          4  Abbas MA-04|All Season      NaN               1  828.98\n",
       "4          5  Abbas MA-05|All Season      NaN               1  745.50"
      ]
     },
     "execution_count": 72,
     "metadata": {},
     "output_type": "execute_result"
    }
   ],
   "source": [
    "product_df['Price'] = product_df['Price'].str.replace('USD', '').str.strip().astype(float)\n",
    "product_df.head()"
   ]
  },
  {
   "cell_type": "code",
   "execution_count": 73,
   "id": "4e1aa0ea",
   "metadata": {},
   "outputs": [
    {
     "data": {
      "text/html": [
       "<div>\n",
       "<style scoped>\n",
       "    .dataframe tbody tr th:only-of-type {\n",
       "        vertical-align: middle;\n",
       "    }\n",
       "\n",
       "    .dataframe tbody tr th {\n",
       "        vertical-align: top;\n",
       "    }\n",
       "\n",
       "    .dataframe thead th {\n",
       "        text-align: right;\n",
       "    }\n",
       "</style>\n",
       "<table border=\"1\" class=\"dataframe\">\n",
       "  <thead>\n",
       "    <tr style=\"text-align: right;\">\n",
       "      <th></th>\n",
       "      <th>ManufacturerID</th>\n",
       "      <th>Manufacturer</th>\n",
       "      <th>Logo</th>\n",
       "    </tr>\n",
       "  </thead>\n",
       "  <tbody>\n",
       "    <tr>\n",
       "      <th>0</th>\n",
       "      <td>1</td>\n",
       "      <td>Abbas</td>\n",
       "      <td>https://raw.githubusercontent.com/CharlesSterl...</td>\n",
       "    </tr>\n",
       "    <tr>\n",
       "      <th>1</th>\n",
       "      <td>2</td>\n",
       "      <td>Aliqui</td>\n",
       "      <td>https://raw.githubusercontent.com/CharlesSterl...</td>\n",
       "    </tr>\n",
       "    <tr>\n",
       "      <th>2</th>\n",
       "      <td>3</td>\n",
       "      <td>Barba</td>\n",
       "      <td>https://raw.githubusercontent.com/CharlesSterl...</td>\n",
       "    </tr>\n",
       "    <tr>\n",
       "      <th>3</th>\n",
       "      <td>4</td>\n",
       "      <td>Currus</td>\n",
       "      <td>https://raw.githubusercontent.com/CharlesSterl...</td>\n",
       "    </tr>\n",
       "    <tr>\n",
       "      <th>4</th>\n",
       "      <td>5</td>\n",
       "      <td>Fama</td>\n",
       "      <td>https://raw.githubusercontent.com/CharlesSterl...</td>\n",
       "    </tr>\n",
       "  </tbody>\n",
       "</table>\n",
       "</div>"
      ],
      "text/plain": [
       "  ManufacturerID Manufacturer  \\\n",
       "0              1        Abbas   \n",
       "1              2       Aliqui   \n",
       "2              3        Barba   \n",
       "3              4       Currus   \n",
       "4              5         Fama   \n",
       "\n",
       "                                                Logo  \n",
       "0  https://raw.githubusercontent.com/CharlesSterl...  \n",
       "1  https://raw.githubusercontent.com/CharlesSterl...  \n",
       "2  https://raw.githubusercontent.com/CharlesSterl...  \n",
       "3  https://raw.githubusercontent.com/CharlesSterl...  \n",
       "4  https://raw.githubusercontent.com/CharlesSterl...  "
      ]
     },
     "execution_count": 73,
     "metadata": {},
     "output_type": "execute_result"
    }
   ],
   "source": [
    "manufacturer_df.head()"
   ]
  },
  {
   "cell_type": "code",
   "execution_count": 74,
   "id": "589ac01d",
   "metadata": {},
   "outputs": [
    {
     "data": {
      "text/html": [
       "<div>\n",
       "<style scoped>\n",
       "    .dataframe tbody tr th:only-of-type {\n",
       "        vertical-align: middle;\n",
       "    }\n",
       "\n",
       "    .dataframe tbody tr th {\n",
       "        vertical-align: top;\n",
       "    }\n",
       "\n",
       "    .dataframe thead th {\n",
       "        text-align: right;\n",
       "    }\n",
       "</style>\n",
       "<table border=\"1\" class=\"dataframe\">\n",
       "  <thead>\n",
       "    <tr style=\"text-align: right;\">\n",
       "      <th></th>\n",
       "      <th>Zip</th>\n",
       "      <th>City</th>\n",
       "      <th>State</th>\n",
       "      <th>Region</th>\n",
       "      <th>District</th>\n",
       "      <th>Country</th>\n",
       "    </tr>\n",
       "  </thead>\n",
       "  <tbody>\n",
       "    <tr>\n",
       "      <th>0</th>\n",
       "      <td>22654</td>\n",
       "      <td>Star Tannery, VA, USA</td>\n",
       "      <td>VA</td>\n",
       "      <td>East</td>\n",
       "      <td>District #07</td>\n",
       "      <td>USA</td>\n",
       "    </tr>\n",
       "    <tr>\n",
       "      <th>1</th>\n",
       "      <td>22655</td>\n",
       "      <td>Stephens City, VA, USA</td>\n",
       "      <td>VA</td>\n",
       "      <td>East</td>\n",
       "      <td>District #07</td>\n",
       "      <td>USA</td>\n",
       "    </tr>\n",
       "    <tr>\n",
       "      <th>2</th>\n",
       "      <td>22656</td>\n",
       "      <td>Stephenson, VA, USA</td>\n",
       "      <td>VA</td>\n",
       "      <td>East</td>\n",
       "      <td>District #07</td>\n",
       "      <td>USA</td>\n",
       "    </tr>\n",
       "    <tr>\n",
       "      <th>3</th>\n",
       "      <td>22657</td>\n",
       "      <td>Strasburg, VA, USA</td>\n",
       "      <td>VA</td>\n",
       "      <td>East</td>\n",
       "      <td>District #07</td>\n",
       "      <td>USA</td>\n",
       "    </tr>\n",
       "    <tr>\n",
       "      <th>4</th>\n",
       "      <td>22660</td>\n",
       "      <td>Toms Brook, VA, USA</td>\n",
       "      <td>VA</td>\n",
       "      <td>East</td>\n",
       "      <td>District #07</td>\n",
       "      <td>USA</td>\n",
       "    </tr>\n",
       "  </tbody>\n",
       "</table>\n",
       "</div>"
      ],
      "text/plain": [
       "     Zip                    City State Region      District Country\n",
       "0  22654   Star Tannery, VA, USA    VA   East  District #07     USA\n",
       "1  22655  Stephens City, VA, USA    VA   East  District #07     USA\n",
       "2  22656     Stephenson, VA, USA    VA   East  District #07     USA\n",
       "3  22657      Strasburg, VA, USA    VA   East  District #07     USA\n",
       "4  22660     Toms Brook, VA, USA    VA   East  District #07     USA"
      ]
     },
     "execution_count": 74,
     "metadata": {},
     "output_type": "execute_result"
    }
   ],
   "source": [
    "geo_df.head()"
   ]
  },
  {
   "cell_type": "code",
   "execution_count": 75,
   "id": "a82c8c6c",
   "metadata": {},
   "outputs": [],
   "source": [
    "product_df.to_csv('./output/product.csv', index=False)\n",
    "manufacturer_df.to_csv('./output/manufacturer.csv', index=False)\n",
    "geo_df.to_csv('./output/geo.csv', index=False)"
   ]
  }
 ],
 "metadata": {
  "kernelspec": {
   "display_name": "spam-filter",
   "language": "python",
   "name": "python3"
  },
  "language_info": {
   "codemirror_mode": {
    "name": "ipython",
    "version": 3
   },
   "file_extension": ".py",
   "mimetype": "text/x-python",
   "name": "python",
   "nbconvert_exporter": "python",
   "pygments_lexer": "ipython3",
   "version": "3.13.5"
  }
 },
 "nbformat": 4,
 "nbformat_minor": 5
}
